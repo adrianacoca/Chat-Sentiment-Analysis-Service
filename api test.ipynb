{
 "cells": [
  {
   "cell_type": "code",
   "execution_count": 2,
   "metadata": {},
   "outputs": [],
   "source": [
    "import requests"
   ]
  },
  {
   "cell_type": "code",
   "execution_count": 3,
   "metadata": {},
   "outputs": [
    {
     "name": "stdout",
     "output_type": "stream",
     "text": [
      "<Response [200]>\n"
     ]
    },
    {
     "data": {
      "text/plain": [
       "<bound method Response.json of <Response [200]>>"
      ]
     },
     "execution_count": 3,
     "metadata": {},
     "output_type": "execute_result"
    }
   ],
   "source": [
    "url = \"http://localhost:3000/\"\n",
    "res = requests.get(url)\n",
    "print(res)\n",
    "res.json"
   ]
  },
  {
   "cell_type": "code",
   "execution_count": 4,
   "metadata": {},
   "outputs": [
    {
     "name": "stdout",
     "output_type": "stream",
     "text": [
      "<Response [200]>\n",
      "b'New user created! name: Al Capone , user id: 5f0c7b2ec5a23b4d85654e49'\n",
      "<Response [200]>\n",
      "b'New user created! name: Albert Einstein , user id: 5f0c7b2ec5a23b4d85654e4a'\n",
      "<Response [200]>\n",
      "b'New user created! name: Alfred Hitchcock , user id: 5f0c7b2ec5a23b4d85654e4b'\n",
      "<Response [200]>\n",
      "b'New user created! name: Elon Musk , user id: 5f0c7b2ec5a23b4d85654e4c'\n",
      "<Response [200]>\n",
      "b'New user created! name: Coco Chanel , user id: 5f0c7b2ec5a23b4d85654e4d'\n"
     ]
    }
   ],
   "source": [
    "#Add users to list\n",
    "names = [\"Al Capone\", \"Albert Einstein\", \"Alfred Hitchcock\", \"Elon Musk\", \"Coco Chanel\"]\n",
    "for n in names: \n",
    "    url = f\"http://localhost:3000/user/create/{n}\"\n",
    "    res = requests.get(url)\n",
    "    print(res)\n",
    "    res.json\n",
    "    print(res.content)"
   ]
  },
  {
   "cell_type": "code",
   "execution_count": 12,
   "metadata": {},
   "outputs": [
    {
     "name": "stdout",
     "output_type": "stream",
     "text": [
      "<Response [200]>\n",
      "b'New chat created! Chat name: science, Chat id: 5f0c849d002ca87140e713d7'\n"
     ]
    }
   ],
   "source": [
    "#Create conversation\n",
    "url = \"http://localhost:3000/chat/create/\"\n",
    "p_dict = {\"conv_name\":\"science\", \"participants\":[\"5f0c3f92ffc2be377870f313\",\"5f0c3f92ffc2be377870f315\"]}\n",
    "res = requests.get(url, params = p_dict)\n",
    "print(res)\n",
    "res.json\n",
    "print(res.content)"
   ]
  },
  {
   "cell_type": "code",
   "execution_count": 15,
   "metadata": {},
   "outputs": [
    {
     "name": "stdout",
     "output_type": "stream",
     "text": [
      "<Response [200]>\n",
      "b'User 5f0c3f92ffc2be377870f314 added to chat 5f0c849d002ca87140e713d7!'\n"
     ]
    }
   ],
   "source": [
    "#Add new user to conversation \n",
    "url = \"http://localhost:3000/chat/5f0c849d002ca87140e713d7/adduser\"\n",
    "new_user = {\"user_id\":\"5f0c3f92ffc2be377870f314\"}\n",
    "res = requests.get(url, params = new_user)\n",
    "print(res)\n",
    "res.json\n",
    "print(res.content)"
   ]
  },
  {
   "cell_type": "code",
   "execution_count": 9,
   "metadata": {},
   "outputs": [
    {
     "name": "stdout",
     "output_type": "stream",
     "text": [
      "<Response [200]>\n",
      "b'Hola! said by participant: 5f0c3f92ffc2be377870f314 added to conversation 5f0c7b2fc5a23b4d85654e4e'\n"
     ]
    }
   ],
   "source": [
    "url = \"http://localhost:3000/chat/5f0c849d002ca87140e713d7/addmessage\"\n",
    "conversation = {\"user_id\":\"5f0c3f92ffc2be377870f314\", \"text\":\"Hola!\"}\n",
    "res = requests.get(url, params = conversation)\n",
    "print(res)\n",
    "res.json\n",
    "print(res.content)"
   ]
  },
  {
   "cell_type": "markdown",
   "metadata": {},
   "source": [
    "# Adding from jupyter - tests"
   ]
  },
  {
   "cell_type": "code",
   "execution_count": 14,
   "metadata": {},
   "outputs": [],
   "source": [
    "from pymongo import MongoClient\n",
    "\n",
    "DBURL = \"mongodb://localhost:27017/apiproject\"\n",
    "client = MongoClient(DBURL)\n",
    "db = client.get_database()"
   ]
  },
  {
   "cell_type": "code",
   "execution_count": 6,
   "metadata": {},
   "outputs": [],
   "source": [
    "conv ={}"
   ]
  },
  {
   "cell_type": "code",
   "execution_count": 7,
   "metadata": {},
   "outputs": [],
   "source": [
    "a = db.chats.insert_one(conv)"
   ]
  },
  {
   "cell_type": "code",
   "execution_count": 8,
   "metadata": {},
   "outputs": [
    {
     "data": {
      "text/plain": [
       "ObjectId('5f0b5637b2a47054f8739854')"
      ]
     },
     "execution_count": 8,
     "metadata": {},
     "output_type": "execute_result"
    }
   ],
   "source": [
    "a.inserted_id"
   ]
  },
  {
   "cell_type": "code",
   "execution_count": 24,
   "metadata": {},
   "outputs": [
    {
     "name": "stdout",
     "output_type": "stream",
     "text": [
      "5f0b3c68570e558bb8dd05f0\n"
     ]
    }
   ],
   "source": [
    "user = {\"name\":\"Abraham Lincoln\", \"age\":22}\n",
    "username = db.user.insert_one(user)\n",
    "print(username.inserted_id) "
   ]
  },
  {
   "cell_type": "code",
   "execution_count": 16,
   "metadata": {},
   "outputs": [
    {
     "name": "stderr",
     "output_type": "stream",
     "text": [
      "/usr/local/lib/python3.7/site-packages/ipykernel_launcher.py:2: DeprecationWarning: insert is deprecated. Use insert_one or insert_many instead.\n",
      "  \n"
     ]
    },
    {
     "ename": "AttributeError",
     "evalue": "'ObjectId' object has no attribute 'inserted_id'",
     "output_type": "error",
     "traceback": [
      "\u001b[0;31m---------------------------------------------------------------------------\u001b[0m",
      "\u001b[0;31mAttributeError\u001b[0m                            Traceback (most recent call last)",
      "\u001b[0;32m<ipython-input-16-d294caea0d11>\u001b[0m in \u001b[0;36m<module>\u001b[0;34m\u001b[0m\n\u001b[1;32m      1\u001b[0m \u001b[0mchat_participants\u001b[0m \u001b[0;34m=\u001b[0m \u001b[0;34m{\u001b[0m\u001b[0;34m\"participants\"\u001b[0m\u001b[0;34m:\u001b[0m\u001b[0;34m[\u001b[0m\u001b[0;34m\"5f0c3f92ffc2be377870f313\"\u001b[0m\u001b[0;34m,\u001b[0m \u001b[0;34m\"5f0c3f92ffc2be377870f315\"\u001b[0m\u001b[0;34m]\u001b[0m\u001b[0;34m}\u001b[0m\u001b[0;34m\u001b[0m\u001b[0;34m\u001b[0m\u001b[0m\n\u001b[1;32m      2\u001b[0m \u001b[0mconversation\u001b[0m \u001b[0;34m=\u001b[0m \u001b[0mdb\u001b[0m\u001b[0;34m.\u001b[0m\u001b[0mchats\u001b[0m\u001b[0;34m.\u001b[0m\u001b[0minsert\u001b[0m\u001b[0;34m(\u001b[0m\u001b[0mchat_participants\u001b[0m\u001b[0;34m)\u001b[0m\u001b[0;34m\u001b[0m\u001b[0;34m\u001b[0m\u001b[0m\n\u001b[0;32m----> 3\u001b[0;31m \u001b[0mprint\u001b[0m\u001b[0;34m(\u001b[0m\u001b[0mconversation\u001b[0m\u001b[0;34m.\u001b[0m\u001b[0minserted_id\u001b[0m\u001b[0;34m)\u001b[0m\u001b[0;34m\u001b[0m\u001b[0;34m\u001b[0m\u001b[0m\n\u001b[0m",
      "\u001b[0;31mAttributeError\u001b[0m: 'ObjectId' object has no attribute 'inserted_id'"
     ]
    }
   ],
   "source": [
    "chat_participants = {\"participants\":[\"5f0c3f92ffc2be377870f313\", \"5f0c3f92ffc2be377870f315\"]}\n",
    "conversation = db.chats.insert(chat_participants)\n",
    "print(conversation.inserted_id) "
   ]
  },
  {
   "cell_type": "code",
   "execution_count": null,
   "metadata": {},
   "outputs": [],
   "source": []
  }
 ],
 "metadata": {
  "kernelspec": {
   "display_name": "Python 3",
   "language": "python",
   "name": "python3"
  },
  "language_info": {
   "codemirror_mode": {
    "name": "ipython",
    "version": 3
   },
   "file_extension": ".py",
   "mimetype": "text/x-python",
   "name": "python",
   "nbconvert_exporter": "python",
   "pygments_lexer": "ipython3",
   "version": "3.7.7"
  }
 },
 "nbformat": 4,
 "nbformat_minor": 4
}
