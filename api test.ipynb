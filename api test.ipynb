{
 "cells": [
  {
   "cell_type": "code",
   "execution_count": 1,
   "metadata": {},
   "outputs": [],
   "source": [
    "import requests"
   ]
  },
  {
   "cell_type": "code",
   "execution_count": 2,
   "metadata": {},
   "outputs": [
    {
     "name": "stdout",
     "output_type": "stream",
     "text": [
      "<Response [200]>\n"
     ]
    },
    {
     "data": {
      "text/plain": [
       "<bound method Response.json of <Response [200]>>"
      ]
     },
     "execution_count": 2,
     "metadata": {},
     "output_type": "execute_result"
    }
   ],
   "source": [
    "url = \"http://localhost:3000/\"\n",
    "res = requests.get(url)\n",
    "print(res)\n",
    "res.json"
   ]
  },
  {
   "cell_type": "code",
   "execution_count": 3,
   "metadata": {},
   "outputs": [
    {
     "name": "stdout",
     "output_type": "stream",
     "text": [
      "<Response [200]>\n",
      "<Response [200]>\n",
      "<Response [200]>\n",
      "<Response [200]>\n",
      "<Response [200]>\n"
     ]
    }
   ],
   "source": [
    "#Add users to list\n",
    "\n",
    "names = [\"Al Capone\", \"Albert Einstein\", \"Abraham Lincoln\", \"Adolf Hitler\", \"Donald Trump\"]\n",
    "names_ids=[]\n",
    "for n in names: \n",
    "    url = f\"http://localhost:3000/user/create/{n}\"\n",
    "    res = requests.get(url)\n",
    "    print(res)\n",
    "    res.json\n",
    "    names_ids.append(res.content)"
   ]
  },
  {
   "cell_type": "code",
   "execution_count": 4,
   "metadata": {},
   "outputs": [],
   "source": [
    "al_capone=names_ids[0].decode(\"utf-8\")\n",
    "albert_einstein=names_ids[1].decode(\"utf-8\")\n",
    "abraham_lincoln=names_ids[2].decode(\"utf-8\")\n",
    "adolf_hitler=names_ids[3].decode(\"utf-8\")\n",
    "donald_trump=names_ids[4].decode(\"utf-8\")"
   ]
  },
  {
   "cell_type": "markdown",
   "metadata": {},
   "source": [
    "# Creating conversations"
   ]
  },
  {
   "cell_type": "markdown",
   "metadata": {},
   "source": [
    "### Business"
   ]
  },
  {
   "cell_type": "markdown",
   "metadata": {},
   "source": [
    "-**Al Capone**: \"Do I do business with Canadian racketeers? I don't even know what street Canada is on.\"  \n",
    "-**Albert Einstein**:\"I refuse to make money out of my science. My laurel is not for sale like so many bales of cotton.\"  \n",
    "-**Donald Trump**: \"My philosophy is always to hire the best from the best.\",   \n",
    "\"Deal-making is an ability you're born with. It's in the genes.\",  \n",
    "\"In the end, you're measured not by how much you undertake but by what you finally accomplish.\""
   ]
  },
  {
   "cell_type": "code",
   "execution_count": 5,
   "metadata": {},
   "outputs": [
    {
     "name": "stdout",
     "output_type": "stream",
     "text": [
      "<Response [200]>\n"
     ]
    }
   ],
   "source": [
    "#Creating business chat with Al Capone and Albert Einstein \n",
    "\n",
    "url = \"http://localhost:3000/chat/create/\"\n",
    "p_dict = {\"conv_name\":\"business\", \"participants\":[al_capone,albert_einstein]}\n",
    "res = requests.get(url, params = p_dict)\n",
    "print(res)\n",
    "res.json\n",
    "business = (res.content).decode(\"utf-8\")"
   ]
  },
  {
   "cell_type": "code",
   "execution_count": 6,
   "metadata": {},
   "outputs": [
    {
     "name": "stdout",
     "output_type": "stream",
     "text": [
      "<Response [200]>\n",
      "b'User 5f0ca5cedcc680d56621517e added to chat 5f0ca5d1dcc680d56621517f!'\n"
     ]
    }
   ],
   "source": [
    "#Adding Donald Trump\n",
    "url = f\"http://localhost:3000/chat/{business}/adduser\"\n",
    "new_user = {\"user_id\":donald_trump}\n",
    "res = requests.get(url, params = new_user)\n",
    "print(res)\n",
    "res.json\n",
    "print(res.content)"
   ]
  },
  {
   "cell_type": "code",
   "execution_count": 7,
   "metadata": {},
   "outputs": [
    {
     "name": "stdout",
     "output_type": "stream",
     "text": [
      "<Response [200]>\n",
      "b\"Do I do business with Canadian racketeers? I don't even know what street Canada is on. said by participant: 5f0ca5cedcc680d56621517a added to conversation 5f0ca5d1dcc680d56621517f\"\n"
     ]
    }
   ],
   "source": [
    "#Adding Al Capone text\n",
    "url = f\"http://localhost:3000/chat/{business}/addmessage\"\n",
    "conversation = {\"user_id\":al_capone, \"text\":\"Do I do business with Canadian racketeers? I don't even know what street Canada is on.\"}\n",
    "res = requests.get(url, params = conversation)\n",
    "print(res)\n",
    "res.json\n",
    "print(res.content)"
   ]
  },
  {
   "cell_type": "code",
   "execution_count": 8,
   "metadata": {},
   "outputs": [
    {
     "name": "stdout",
     "output_type": "stream",
     "text": [
      "<Response [200]>\n",
      "b'I refuse to make money out of my science. My laurel is not for sale like so many bales of cotton. said by participant: 5f0ca5cedcc680d56621517b added to conversation 5f0ca5d1dcc680d56621517f'\n"
     ]
    }
   ],
   "source": [
    "#Adding Albert Einstein text\n",
    "url = f\"http://localhost:3000/chat/{business}/addmessage\"\n",
    "conversation = {\"user_id\":albert_einstein, \"text\":\"I refuse to make money out of my science. My laurel is not for sale like so many bales of cotton.\"}\n",
    "res = requests.get(url, params = conversation)\n",
    "print(res)\n",
    "res.json\n",
    "print(res.content)"
   ]
  },
  {
   "cell_type": "code",
   "execution_count": 9,
   "metadata": {},
   "outputs": [
    {
     "name": "stdout",
     "output_type": "stream",
     "text": [
      "<Response [200]>\n",
      "b'My philosophy is always to hire the best from the best. said by participant: 5f0ca5cedcc680d56621517e added to conversation 5f0ca5d1dcc680d56621517f'\n",
      "<Response [200]>\n",
      "b\"Deal-making is an ability you're born with. It's in the genes. said by participant: 5f0ca5cedcc680d56621517e added to conversation 5f0ca5d1dcc680d56621517f\"\n",
      "<Response [200]>\n",
      "b\"In the end, you're measured not by how much you undertake but by what you finally accomplish. said by participant: 5f0ca5cedcc680d56621517e added to conversation 5f0ca5d1dcc680d56621517f\"\n"
     ]
    }
   ],
   "source": [
    "#Adding Donald Trump text\n",
    "url = f\"http://localhost:3000/chat/{business}/addmessage\"\n",
    "conversation = {\"user_id\":donald_trump, \"text\":\"My philosophy is always to hire the best from the best.\"}\n",
    "res = requests.get(url, params = conversation)\n",
    "print(res)\n",
    "res.json\n",
    "print(res.content)\n",
    "\n",
    "conversation = {\"user_id\":donald_trump, \"text\":\"Deal-making is an ability you're born with. It's in the genes.\"}\n",
    "res = requests.get(url, params = conversation)\n",
    "print(res)\n",
    "res.json\n",
    "print(res.content)\n",
    "\n",
    "conversation = {\"user_id\":donald_trump, \"text\":\"In the end, you're measured not by how much you undertake but by what you finally accomplish.\"}\n",
    "res = requests.get(url, params = conversation)\n",
    "print(res)\n",
    "res.json\n",
    "print(res.content)"
   ]
  },
  {
   "cell_type": "markdown",
   "metadata": {},
   "source": [
    "### Politics"
   ]
  },
  {
   "cell_type": "markdown",
   "metadata": {},
   "source": [
    "**Al Capone**:\"This is virgin territory out here for whorehouses.\",   \n",
    "\"I've been accused of every death except the casualty list of the World War.\"  \n",
    "**Adolf Hitler**: \"The common good before the individual good. (Gemeinnutz geht vor Eigennutz)\",   \n",
    "\"Politics is history in the making.\",  \n",
    "\"The war is lost!\""
   ]
  },
  {
   "cell_type": "code",
   "execution_count": 10,
   "metadata": {},
   "outputs": [
    {
     "name": "stdout",
     "output_type": "stream",
     "text": [
      "<Response [200]>\n"
     ]
    }
   ],
   "source": [
    "#Creating business chat with Al Capone and Adolf Hitler \n",
    "url = \"http://localhost:3000/chat/create/\"\n",
    "p_dict = {\"conv_name\":\"politics\", \"participants\":[al_capone,adolf_hitler]}\n",
    "res = requests.get(url, params = p_dict)\n",
    "print(res)\n",
    "res.json\n",
    "politics = (res.content).decode(\"utf-8\")"
   ]
  },
  {
   "cell_type": "code",
   "execution_count": 11,
   "metadata": {},
   "outputs": [
    {
     "name": "stdout",
     "output_type": "stream",
     "text": [
      "<Response [200]>\n",
      "b'This is virgin territory out here for whorehouses. said by participant: 5f0ca5cedcc680d56621517a added to conversation 5f0ca5dadcc680d566215185'\n",
      "<Response [200]>\n",
      "b\"I've been accused of every death except the casualty list of the World War. said by participant: 5f0ca5cedcc680d56621517a added to conversation 5f0ca5dadcc680d566215185\"\n"
     ]
    }
   ],
   "source": [
    "#Adding Al Capone text\n",
    "url = f\"http://localhost:3000/chat/{politics}/addmessage\"\n",
    "\n",
    "conversation = {\"user_id\":al_capone, \"text\":\"This is virgin territory out here for whorehouses.\"}\n",
    "res = requests.get(url, params = conversation)\n",
    "print(res)\n",
    "res.json\n",
    "print(res.content)\n",
    "\n",
    "conversation = {\"user_id\":al_capone, \"text\":\"I've been accused of every death except the casualty list of the World War.\"}\n",
    "res = requests.get(url, params = conversation)\n",
    "print(res)\n",
    "res.json\n",
    "print(res.content)"
   ]
  },
  {
   "cell_type": "code",
   "execution_count": 12,
   "metadata": {},
   "outputs": [
    {
     "name": "stdout",
     "output_type": "stream",
     "text": [
      "<Response [200]>\n",
      "b'The common good before the individual good. (Gemeinnutz geht vor Eigennutz) said by participant: 5f0ca5cedcc680d56621517d added to conversation 5f0ca5d1dcc680d56621517f'\n",
      "<Response [200]>\n",
      "b'Politics is history in the making. said by participant: 5f0ca5cedcc680d56621517d added to conversation 5f0ca5d1dcc680d56621517f'\n",
      "<Response [200]>\n",
      "b'The war is lost! said by participant: 5f0ca5cedcc680d56621517d added to conversation 5f0ca5d1dcc680d56621517f'\n"
     ]
    }
   ],
   "source": [
    "#Adding Adolf Hitler text\n",
    "url = f\"http://localhost:3000/chat/{business}/addmessage\"\n",
    "\n",
    "conversation = {\"user_id\":adolf_hitler, \"text\":\"The common good before the individual good. (Gemeinnutz geht vor Eigennutz)\"}\n",
    "res = requests.get(url, params = conversation)\n",
    "print(res)\n",
    "res.json\n",
    "print(res.content)\n",
    "\n",
    "conversation = {\"user_id\":adolf_hitler, \"text\":\"Politics is history in the making.\"}\n",
    "res = requests.get(url, params = conversation)\n",
    "print(res)\n",
    "res.json\n",
    "print(res.content)\n",
    "\n",
    "conversation = {\"user_id\":adolf_hitler, \"text\":\"The war is lost!\"}\n",
    "res = requests.get(url, params = conversation)\n",
    "print(res)\n",
    "res.json\n",
    "print(res.content)"
   ]
  },
  {
   "cell_type": "markdown",
   "metadata": {},
   "source": [
    "### Forces"
   ]
  },
  {
   "cell_type": "markdown",
   "metadata": {},
   "source": [
    "**Albert Einstein**: \"The mass of a body is a measure of its energy content.\",   \n",
    "\"All of science is nothing more than the refinement of everyday thinking.\",  \n",
    "\"I never think of the future. It comes soon enough.\"  \n",
    "**Abraham Lincoln**: \"Will springs from the two elements of moral sense and self-interest.\"  "
   ]
  },
  {
   "cell_type": "code",
   "execution_count": 13,
   "metadata": {},
   "outputs": [
    {
     "name": "stdout",
     "output_type": "stream",
     "text": [
      "<Response [200]>\n"
     ]
    }
   ],
   "source": [
    "#Creating business chat with Albert Einstein and Abraham Lincoln \n",
    "url = \"http://localhost:3000/chat/create/\"\n",
    "p_dict = {\"conv_name\":\"forces\", \"participants\":[albert_einstein, abraham_lincoln]}\n",
    "res = requests.get(url, params = p_dict)\n",
    "print(res)\n",
    "res.json\n",
    "forces = (res.content).decode(\"utf-8\")"
   ]
  },
  {
   "cell_type": "code",
   "execution_count": 14,
   "metadata": {},
   "outputs": [
    {
     "name": "stdout",
     "output_type": "stream",
     "text": [
      "<Response [200]>\n",
      "b'The mass of a body is a measure of its energy content. said by participant: 5f0ca5cedcc680d56621517b added to conversation 5f0ca5dedcc680d56621518b'\n",
      "<Response [200]>\n",
      "b'All of science is nothing more than the refinement of everyday thinking. said by participant: 5f0ca5cedcc680d56621517b added to conversation 5f0ca5dedcc680d56621518b'\n",
      "<Response [200]>\n",
      "b'I never think of the future. It comes soon enough. said by participant: 5f0ca5cedcc680d56621517b added to conversation 5f0ca5dedcc680d56621518b'\n"
     ]
    }
   ],
   "source": [
    "#Adding Albert Einstein text\n",
    "url = f\"http://localhost:3000/chat/{forces}/addmessage\"\n",
    "\n",
    "conversation = {\"user_id\":albert_einstein, \"text\":\"The mass of a body is a measure of its energy content.\"}\n",
    "res = requests.get(url, params = conversation)\n",
    "print(res)\n",
    "res.json\n",
    "print(res.content)\n",
    "\n",
    "conversation = {\"user_id\":albert_einstein, \"text\":\"All of science is nothing more than the refinement of everyday thinking.\"}\n",
    "res = requests.get(url, params = conversation)\n",
    "print(res)\n",
    "res.json\n",
    "print(res.content)\n",
    "\n",
    "conversation = {\"user_id\":albert_einstein, \"text\":\"I never think of the future. It comes soon enough.\"}\n",
    "res = requests.get(url, params = conversation)\n",
    "print(res)\n",
    "res.json\n",
    "print(res.content)"
   ]
  },
  {
   "cell_type": "code",
   "execution_count": 15,
   "metadata": {},
   "outputs": [
    {
     "name": "stdout",
     "output_type": "stream",
     "text": [
      "<Response [200]>\n",
      "b'Will springs from the two elements of moral sense and self-interest. said by participant: 5f0ca5cedcc680d56621517c added to conversation 5f0ca5dedcc680d56621518b'\n"
     ]
    }
   ],
   "source": [
    "#Adding Abraham Lincoln text\n",
    "url = f\"http://localhost:3000/chat/{forces}/addmessage\"\n",
    "\n",
    "conversation = {\"user_id\":abraham_lincoln, \"text\":\"Will springs from the two elements of moral sense and self-interest.\"}\n",
    "res = requests.get(url, params = conversation)\n",
    "print(res)\n",
    "res.json\n",
    "print(res.content)\n"
   ]
  },
  {
   "cell_type": "markdown",
   "metadata": {},
   "source": [
    "### Persuade"
   ]
  },
  {
   "cell_type": "markdown",
   "metadata": {},
   "source": [
    "**Adolf Hitler**: \"Our party remains as firm as this rock and will not be divided by any force in Germany.\",  \n",
    "\"We want this people to be hard, not soft, and you must steel yourselves for it in your youth!\"  \n",
    "**Albert Einstein**: \"Force always attracts men of low morality.\"  \n",
    "**Al Capone**: \"You can get much farther with a kind word and a gun than you can with a kind word alone.\""
   ]
  },
  {
   "cell_type": "code",
   "execution_count": 16,
   "metadata": {},
   "outputs": [
    {
     "name": "stdout",
     "output_type": "stream",
     "text": [
      "<Response [200]>\n"
     ]
    }
   ],
   "source": [
    "#Creating business chat with Adolf Hitler, Albert Einstein and Al Capone \n",
    "url = \"http://localhost:3000/chat/create/\"\n",
    "p_dict = {\"conv_name\":\"perswade\", \"participants\":[adolf_hitler, albert_einstein, al_capone]}\n",
    "res = requests.get(url, params = p_dict)\n",
    "print(res)\n",
    "res.json\n",
    "perswade = (res.content).decode(\"utf-8\")"
   ]
  },
  {
   "cell_type": "code",
   "execution_count": 17,
   "metadata": {},
   "outputs": [
    {
     "name": "stdout",
     "output_type": "stream",
     "text": [
      "<Response [200]>\n",
      "b'Our party remains as firm as this rock and will not be divided by any force in Germany. said by participant: 5f0ca5cedcc680d56621517d added to conversation 5f0ca5dfdcc680d566215190'\n",
      "<Response [200]>\n",
      "b'We want this people to be hard, not soft, and you must steel yourselves for it in your youth! said by participant: 5f0ca5cedcc680d56621517d added to conversation 5f0ca5dfdcc680d566215190'\n"
     ]
    }
   ],
   "source": [
    "#Adding Adolf Hitler text\n",
    "url = f\"http://localhost:3000/chat/{perswade}/addmessage\"\n",
    "\n",
    "conversation = {\"user_id\":adolf_hitler, \"text\":\"Our party remains as firm as this rock and will not be divided by any force in Germany.\"}\n",
    "res = requests.get(url, params = conversation)\n",
    "print(res)\n",
    "res.json\n",
    "print(res.content)\n",
    "\n",
    "conversation = {\"user_id\":adolf_hitler, \"text\":\"We want this people to be hard, not soft, and you must steel yourselves for it in your youth!\"}\n",
    "res = requests.get(url, params = conversation)\n",
    "print(res)\n",
    "res.json\n",
    "print(res.content)"
   ]
  },
  {
   "cell_type": "code",
   "execution_count": 18,
   "metadata": {},
   "outputs": [
    {
     "name": "stdout",
     "output_type": "stream",
     "text": [
      "<Response [200]>\n",
      "b'Force always attracts men of low morality. said by participant: 5f0ca5cedcc680d56621517b added to conversation 5f0ca5dfdcc680d566215190'\n"
     ]
    }
   ],
   "source": [
    "#Adding Albert Einstein text\n",
    "url = f\"http://localhost:3000/chat/{perswade}/addmessage\"\n",
    "\n",
    "conversation = {\"user_id\":albert_einstein, \"text\":\"Force always attracts men of low morality.\"}\n",
    "res = requests.get(url, params = conversation)\n",
    "print(res)\n",
    "res.json\n",
    "print(res.content)\n"
   ]
  },
  {
   "cell_type": "code",
   "execution_count": 19,
   "metadata": {},
   "outputs": [
    {
     "name": "stdout",
     "output_type": "stream",
     "text": [
      "<Response [200]>\n",
      "b'You can get much farther with a kind word and a gun than you can with a kind word alone. said by participant: 5f0ca5cedcc680d56621517b added to conversation 5f0ca5dfdcc680d566215190'\n"
     ]
    }
   ],
   "source": [
    "#Adding Al Capone text\n",
    "url = f\"http://localhost:3000/chat/{perswade}/addmessage\"\n",
    "\n",
    "conversation = {\"user_id\":albert_einstein, \"text\":\"You can get much farther with a kind word and a gun than you can with a kind word alone.\"}\n",
    "res = requests.get(url, params = conversation)\n",
    "print(res)\n",
    "res.json\n",
    "print(res.content)\n"
   ]
  },
  {
   "cell_type": "markdown",
   "metadata": {},
   "source": [
    "### Principles"
   ]
  },
  {
   "cell_type": "markdown",
   "metadata": {},
   "source": [
    "**Abraham Lincoln**: \"The severest justice may not always be the best policy.\",  \n",
    "\"Determine that the thing can and shall be done, and then we shall find the way.\",  \n",
    "\"Truth is generally the best vindication against slander.\"  \n",
    "**Albert Einstein**: \"Only a life lived for others is a life worthwhile.\""
   ]
  },
  {
   "cell_type": "code",
   "execution_count": 20,
   "metadata": {},
   "outputs": [
    {
     "name": "stdout",
     "output_type": "stream",
     "text": [
      "<Response [200]>\n"
     ]
    }
   ],
   "source": [
    "#Creating business chat with Abraham Lincoln, Albert Einstein and Al Capone \n",
    "url = \"http://localhost:3000/chat/create/\"\n",
    "p_dict = {\"conv_name\":\"principles\", \"participants\":[adolf_hitler, albert_einstein, al_capone]}\n",
    "res = requests.get(url, params = p_dict)\n",
    "print(res)\n",
    "res.json\n",
    "principles = (res.content).decode(\"utf-8\")"
   ]
  },
  {
   "cell_type": "code",
   "execution_count": 21,
   "metadata": {},
   "outputs": [
    {
     "name": "stdout",
     "output_type": "stream",
     "text": [
      "<Response [200]>\n",
      "b'The severest justice may not always be the best policy. said by participant: 5f0ca5cedcc680d56621517c added to conversation 5f0ca5e2dcc680d566215195'\n",
      "<Response [200]>\n",
      "b'Determine that the thing can and shall be done, and then we shall find the way. said by participant: 5f0ca5cedcc680d56621517c added to conversation 5f0ca5e2dcc680d566215195'\n",
      "<Response [200]>\n",
      "b'Truth is generally the best vindication against slander. said by participant: 5f0ca5cedcc680d56621517c added to conversation 5f0ca5e2dcc680d566215195'\n"
     ]
    }
   ],
   "source": [
    "#Adding Abraham Lincoln text\n",
    "url = f\"http://localhost:3000/chat/{principles}/addmessage\"\n",
    "\n",
    "conversation = {\"user_id\":abraham_lincoln, \"text\":\"The severest justice may not always be the best policy.\"}\n",
    "res = requests.get(url, params = conversation)\n",
    "print(res)\n",
    "res.json\n",
    "print(res.content)\n",
    "\n",
    "conversation = {\"user_id\":abraham_lincoln, \"text\":\"Determine that the thing can and shall be done, and then we shall find the way.\"}\n",
    "res = requests.get(url, params = conversation)\n",
    "print(res)\n",
    "res.json\n",
    "print(res.content)\n",
    "\n",
    "conversation = {\"user_id\":abraham_lincoln, \"text\":\"Truth is generally the best vindication against slander.\"}\n",
    "res = requests.get(url, params = conversation)\n",
    "print(res)\n",
    "res.json\n",
    "print(res.content)"
   ]
  },
  {
   "cell_type": "code",
   "execution_count": 22,
   "metadata": {},
   "outputs": [
    {
     "name": "stdout",
     "output_type": "stream",
     "text": [
      "<Response [200]>\n",
      "b'Only a life lived for others is a life worthwhile. said by participant: 5f0ca5cedcc680d56621517b added to conversation 5f0ca5e2dcc680d566215195'\n"
     ]
    }
   ],
   "source": [
    "#Adding Albert Einstein text\n",
    "url = f\"http://localhost:3000/chat/{principles}/addmessage\"\n",
    "\n",
    "conversation = {\"user_id\":albert_einstein, \"text\":\"Only a life lived for others is a life worthwhile.\"}\n",
    "res = requests.get(url, params = conversation)\n",
    "print(res)\n",
    "res.json\n",
    "print(res.content)"
   ]
  },
  {
   "cell_type": "code",
   "execution_count": 89,
   "metadata": {},
   "outputs": [
    {
     "data": {
      "text/plain": [
       "'5f0ca5e2dcc680d566215195'"
      ]
     },
     "execution_count": 89,
     "metadata": {},
     "output_type": "execute_result"
    }
   ],
   "source": [
    "principles"
   ]
  },
  {
   "cell_type": "markdown",
   "metadata": {},
   "source": [
    "# List Messages"
   ]
  },
  {
   "cell_type": "code",
   "execution_count": 166,
   "metadata": {},
   "outputs": [],
   "source": [
    "url = f\"http://localhost:3000/chat/{principles}/list\""
   ]
  },
  {
   "cell_type": "code",
   "execution_count": 167,
   "metadata": {},
   "outputs": [
    {
     "name": "stdout",
     "output_type": "stream",
     "text": [
      "<Response [200]>\n",
      "b'[{\"user_id\": {\"$oid\": \"5f0ca5cedcc680d56621517c\"}, \"text\": \"The severest justice may not always be the best policy.\"}, {\"user_id\": {\"$oid\": \"5f0ca5cedcc680d56621517c\"}, \"text\": \"Determine that the thing can and shall be done, and then we shall find the way.\"}, {\"user_id\": {\"$oid\": \"5f0ca5cedcc680d56621517c\"}, \"text\": \"Truth is generally the best vindication against slander.\"}, {\"user_id\": {\"$oid\": \"5f0ca5cedcc680d56621517b\"}, \"text\": \"Only a life lived for others is a life worthwhile.\"}]'\n"
     ]
    }
   ],
   "source": [
    "res = requests.get(url)\n",
    "print(res)\n",
    "res.json\n",
    "print(res.content)\n",
    "d=res.content.decode(\"utf-8\")"
   ]
  },
  {
   "cell_type": "code",
   "execution_count": 168,
   "metadata": {},
   "outputs": [],
   "source": [
    "import json\n",
    "d=res.content.decode(\"utf-8\")\n",
    "d=json.loads(d)"
   ]
  },
  {
   "cell_type": "code",
   "execution_count": 169,
   "metadata": {},
   "outputs": [],
   "source": [
    "users=[]\n",
    "messages=[]\n",
    "for i in range(len(d)):\n",
    "    users.append(d[i][\"user_id\"][\"$oid\"])\n",
    "    messages.append(d[i][\"text\"])"
   ]
  },
  {
   "cell_type": "code",
   "execution_count": 170,
   "metadata": {},
   "outputs": [
    {
     "data": {
      "text/plain": [
       "['5f0ca5cedcc680d56621517c',\n",
       " '5f0ca5cedcc680d56621517c',\n",
       " '5f0ca5cedcc680d56621517c',\n",
       " '5f0ca5cedcc680d56621517b']"
      ]
     },
     "execution_count": 170,
     "metadata": {},
     "output_type": "execute_result"
    }
   ],
   "source": [
    "users\n"
   ]
  },
  {
   "cell_type": "code",
   "execution_count": 161,
   "metadata": {},
   "outputs": [
    {
     "data": {
      "text/plain": [
       "['The severest justice may not always be the best policy.',\n",
       " 'Determine that the thing can and shall be done, and then we shall find the way.',\n",
       " 'Truth is generally the best vindication against slander.',\n",
       " 'Only a life lived for others is a life worthwhile.']"
      ]
     },
     "execution_count": 161,
     "metadata": {},
     "output_type": "execute_result"
    }
   ],
   "source": [
    "messages"
   ]
  },
  {
   "cell_type": "code",
   "execution_count": null,
   "metadata": {},
   "outputs": [],
   "source": []
  }
 ],
 "metadata": {
  "kernelspec": {
   "display_name": "Python 3",
   "language": "python",
   "name": "python3"
  },
  "language_info": {
   "codemirror_mode": {
    "name": "ipython",
    "version": 3
   },
   "file_extension": ".py",
   "mimetype": "text/x-python",
   "name": "python",
   "nbconvert_exporter": "python",
   "pygments_lexer": "ipython3",
   "version": "3.7.7"
  }
 },
 "nbformat": 4,
 "nbformat_minor": 4
}
